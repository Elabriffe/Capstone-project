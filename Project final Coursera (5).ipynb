{
 "cells": [
  {
   "cell_type": "markdown",
   "metadata": {},
   "source": [
    "# 1. Introduction"
   ]
  },
  {
   "cell_type": "markdown",
   "metadata": {},
   "source": [
    " ## 1.1 Background"
   ]
  },
  {
   "cell_type": "markdown",
   "metadata": {},
   "source": [
    "Paris is known for its culinary cuisine and culture. In addition, Paris is one of the most attractive cities in France where it is interesting to open a business. Moreover it is one of the most multicultural cities in France and therefore an interesting place to open a new business. Moreover we are one of the largest business centers in France, but also many cultural sites are present there attracting many tourists. So many advantages that can be interesting to open a restaurant."
   ]
  },
  {
   "cell_type": "markdown",
   "metadata": {},
   "source": [
    "## 1.2. Problem description:"
   ]
  },
  {
   "cell_type": "markdown",
   "metadata": {},
   "source": [
    "Paris is a city of many cultures. In addition of many people from different backgrounds have settled in Paris: Africans, South Americans, Asians, Eastern Europeans and they have all brought with them their particular culture in the Parisian diversity. Thanks to this unique mix of cultures in Paris, you can find an infinite number of small ethnic restaurants that offer an alternative to the classic Parisian restaurants, the \"brasseries\".\n",
    "\n",
    "In Paris, as in the main cities of France, you will find all kinds of kitchens from every corner of the globe. And honestly, it is almost impossible to list all the countries represented in the Parisian gastronomic landscape here.\n",
    "\n",
    "However, due to colonial ties or mass immigration, some types of cuisine are more common and therefore easier to find. The list below therefore presents some of the most represented and influential countries in Paris gastronomy.\n",
    "\n",
    "**Vietnam**\n",
    "\n",
    "Vietnam was a French colony from 1887 to 1954 and, as a result, a large Vietnamese community resided in France. During the colonial period, both cultures strongly influenced their respective cuisines, as evidenced by dishes such as the Vietnamese \"banh mi\", a sandwich that uses a rice flour version of the famous French baguette. You can also find distinctly Vietnamese dishes, such as the \"pho\" (pronounced - fire -) which originated from the French \"pot au feu\".\n",
    "\n",
    "**Senegal**\n",
    "\n",
    "Like Vietnam, Senegal is another former colony whose culture and cuisine has strongly influenced France. Many Senegalese immigrants brought refined dishes such as \"Thiebou Yap\", (cooked beef or lamb, vegetables, seasonings, rice) and \"Yassa\", (chicken marinated in spices and simmered in a pan with mustard, onion and lemon juice, and served with rice).\n",
    "\n",
    "**Lebanon**\n",
    "\n",
    "Although France occupied Lebanon from World War I until the late 1950s, many Lebanese immigrated in 1975 because of the civil war, thus enlarging the small community that already existed in the country. These immigrants brought with them classic staple foods such as hummus and pita bread, as well as \"baba ganoush\", a dish made from roasted eggplant. Today, many Lebanese restaurants, from stalls to gourmet restaurants, dot the streets of Paris and beyond.\n",
    "\n",
    "**Morocco**\n",
    "\n",
    "People of Moroccan origin form one of the largest communities of foreign origin in France due to mass immigration after the colonial period. Like many other North African countries, Moroccan cuisine combines elements of diverse origins: Arabic, Mediterranean, Berber and other neighboring cultures. The classic Moroccan \"tajines\" cook meat or vegetables in a terracotta dish. And the \"Fassi B'stilla\" (or pastilla) is a kind of pie made of ingredients ranging from pigeon to chicken with cinnamon.\n",
    "\n",
    "**Japan**\n",
    "\n",
    "Japanese expatriates have frequently visited France since the 1870s to study and appreciate its culture. Today, many people of Japanese origin live there and many Japanese expatriates reside there for long periods of time. These long-established Japanese communities have introduced classic establishments such as sushi and noodle bars into the French culinary landscape. Many renowned chefs, such as Sadaharu Aoki, mix French and Japanese culinary traditions and pastries in an amazing way.\n",
    "\n",
    "And to face this diversity, it's therefore important to be strategically placed in Paris to attract people. That's why for this problem. We would need to study different important point to decide about the location of the restaurant in Paris.\n",
    "\n",
    "* Which kind of population in the different neigberhoods. (Depending on which kind of restaurant we want to open, the location may vary)\n",
    "\n",
    "* Is there any centers near to this place and maybe there would be more floating people. \n",
    "\n",
    "* What's the influence during the day in the different neighberhood \n",
    "\n",
    "* Are thre any work center close to our place so that people could eat at noon\n",
    "\n",
    "* The peers, competitors in the different place\n",
    "\n",
    "* Shops and market around our place, Can a short circuit be used ? Can we find a way to have fresh product every day\n"
   ]
  },
  {
   "cell_type": "markdown",
   "metadata": {},
   "source": [
    "## 2. Data for the project"
   ]
  },
  {
   "attachments": {},
   "cell_type": "markdown",
   "metadata": {},
   "source": [
    "### Dataset 1 : Population density\n",
    "\n",
    "\n",
    "A dataset with the population density by neighberhood on Paris so that we could see where are the best neighberhood with lots of population.\n",
    "\n",
    "The following dataset could help us to achieve that :\n",
    "\n",
    "https://www.data.gouv.fr/fr/datasets/r/e88c6fda-1d09-42a0-a069-606d3259114e\n",
    "\n",
    "In this set of data we wll find different info as :\n",
    "\n",
    "* num_arr: number of borough;\n",
    "* nom_dept: name of department;\n",
    "* nom_region: name of region;\n",
    "* population: number of population by 1000;\n",
    "\n",
    "### Dataset 2 : Market, Food supplier in paris\n",
    "\n",
    "website : https://opendata.paris.fr\n",
    "\n",
    "From this website, we can download the data concerning the Paris local markets (Marchés découverts). \n",
    "\n",
    "<img src=\"https://github.com/Elabriffe/Capstone-project/blob/main/Capture%20d%E2%80%99e%CC%81cran%202021-01-18%20a%CC%80%2020.16.41.png?raw=true\"/>\n",
    "\n",
    "This dataset contains the following information :\n",
    "\n",
    "* Market name and description\n",
    "* Product in which the market specialises — such as Food, Bio Food, Art, Flower etc..\n",
    "* Arrondissement — Paris is divided into zones called Arrondissement. So this field indicates in which zone the market is located in.\n",
    "* Monday to Sunday — A 1 in this column indicates that the market is open on that day\n",
    "* Latitude, Longitude — which indicates the geo-location of the market. This is more precise than Arrondissement for the location information\n",
    "\n",
    "Indeed it's important for restaurant to have fresh dishes and be close to market to be the most efficient possible.\n",
    "We could have also more market by using the Foursquare API which could provide some other market to have more info about the market in paris."
   ]
  },
  {
   "attachments": {},
   "cell_type": "markdown",
   "metadata": {},
   "source": [
    "<img src=\"https://github.com/Elabriffe/Capstone-project/blob/main/Capture%20d%E2%80%99e%CC%81cran%202021-01-19%20a%CC%80%2020.54.43.png?raw=true\"/>"
   ]
  },
  {
   "attachments": {},
   "cell_type": "markdown",
   "metadata": {},
   "source": [
    "### Dataset 3 : Peers, competitors in Paris\n",
    "\n",
    "We can use different dataset for this part as many of them are available on different websites. A complete one is available on kaggle :\n",
    "\n",
    "https://www.kaggle.com/svrcek/paris-restaurants\n",
    "\n",
    "<img src=\"https://github.com/Elabriffe/Capstone-project/blob/main/Capture%20d%E2%80%99e%CC%81cran%202021-01-19%20a%CC%80%2021.14.15.png?raw=true\"/>\n",
    "\n",
    "In this dataset, we have the following elements :\n",
    "\n",
    "* postal code (code)\n",
    "* Nom restaurant (restaurant name)\n",
    "* adresse (address)\n",
    "* ville (city)\n",
    "* longitude and latitude\n",
    "\n",
    "Other data could be used and could be retrieve from the Foursquare API."
   ]
  },
  {
   "attachments": {},
   "cell_type": "markdown",
   "metadata": {},
   "source": [
    "<img src=\"https://github.com/Elabriffe/Capstone-project/blob/main/Capture%20d%E2%80%99e%CC%81cran%202021-01-19%20a%CC%80%2021.18.13.png?raw=true\"/>"
   ]
  },
  {
   "cell_type": "markdown",
   "metadata": {},
   "source": [
    "## 3. Methodology\n",
    "\n",
    "As a reminder, the objective of this project is to find the place the most suitable to open a restaurant in Paris. \n",
    "So we'll use the datasets presented before to achieve that.\n",
    "\n",
    "* 1st one will help us to define place where we can find the most important density.\n",
    "* 2nd one to find the place where are the place with market to get fresh dishes\n",
    "* 3rd one to find the place without peers so that we have less competitors.\n",
    "\n",
    "Finally we could use as seen previously the k-means method to find the right segmentation which correspond to our different criteria."
   ]
  },
  {
   "cell_type": "code",
   "execution_count": 1,
   "metadata": {},
   "outputs": [],
   "source": [
    "import requests # library to handle requests\n",
    "import pandas as pd # library for data analsysis\n",
    "import numpy as np # library to handle data in a vectorized manner\n",
    "import random # library for random number generation\n",
    "\n",
    "\n",
    "#from geopy.geocoders import Nominatim # module to convert an address into latitude and longitude values\n",
    "\n",
    "# libraries for displaying images\n",
    "from IPython.display import Image \n",
    "from IPython.core.display import HTML \n",
    "    \n",
    "# tranforming json file into a pandas dataframe library\n",
    "from pandas.io.json import json_normalize\n",
    "\n",
    "import folium # plotting library"
   ]
  },
  {
   "cell_type": "code",
   "execution_count": null,
   "metadata": {},
   "outputs": [],
   "source": []
  },
  {
   "cell_type": "code",
   "execution_count": null,
   "metadata": {},
   "outputs": [],
   "source": []
  },
  {
   "cell_type": "code",
   "execution_count": null,
   "metadata": {},
   "outputs": [],
   "source": []
  }
 ],
 "metadata": {
  "kernelspec": {
   "display_name": "Python 3",
   "language": "python",
   "name": "python3"
  },
  "language_info": {
   "codemirror_mode": {
    "name": "ipython",
    "version": 3
   },
   "file_extension": ".py",
   "mimetype": "text/x-python",
   "name": "python",
   "nbconvert_exporter": "python",
   "pygments_lexer": "ipython3",
   "version": "3.8.3"
  }
 },
 "nbformat": 4,
 "nbformat_minor": 4
}
